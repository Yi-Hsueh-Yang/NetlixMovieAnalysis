{
 "cells": [
  {
   "cell_type": "markdown",
   "metadata": {},
   "source": [
    "## Prediction Modeling\n",
    "### Machine Learning Foundations with Python - SP23\n",
    "### Team Name: Team 8 (Grace Eunji Kim, Sajujya Gangopadhyay, Yi-Hsueh Yang)\n"
   ]
  },
  {
   "cell_type": "markdown",
   "metadata": {},
   "source": [
    "This notebook is a continuing work from the DataCleaning_Team8.ipynb. We are trying to answer the question below with this entire notebook. The notebook consists of sections on data preparation, data cleaning, data preprocessing, a bit of visualization, and model building."
   ]
  },
  {
   "cell_type": "markdown",
   "metadata": {},
   "source": [
    "As a customer, getting to know the rating or word of mouth from others is always helpful before we click on the first episode of any movie. However, it is considered biased or hard to believe the ratings for movies or series on Netflix since many are Netflix Originals. Thus, a third-party impartial unit can play a crucial part, e.g., IMDb and Rotten Tomatoes, here for our reference. We find performing well on both platforms exciting and vital to be viewed as sound production. We are using an IMDb rating dataset combined with the customer rating dataset we got by merging previous movies and series only on Netflix to make predictions of their rating on IMDb.    "
   ]
  },
  {
   "cell_type": "markdown",
   "metadata": {},
   "source": [
    "#### Question: What is the IMDb rating for a Netflix movie, given its information and rating on Netflix?"
   ]
  },
  {
   "cell_type": "markdown",
   "metadata": {},
   "source": [
    "In this prediction analysis, the IMDb rating column is our target variable, y, and the rest are our independent variables, X. RMSE is used to measure our models' metrics."
   ]
  },
  {
   "cell_type": "code",
   "execution_count": 113,
   "metadata": {},
   "outputs": [],
   "source": [
    "import pandas as pd\n",
    "import numpy as np\n",
    "from xgboost import XGBRegressor as xgb\n",
    "import seaborn as sns\n",
    "import matplotlib.pyplot as plt\n",
    "import warnings\n",
    "from sklearn.compose import ColumnTransformer\n",
    "from sklearn.pipeline import Pipeline\n",
    "from sklearn.preprocessing import OrdinalEncoder, OneHotEncoder, MultiLabelBinarizer, StandardScaler\n",
    "from sklearn.ensemble import RandomForestRegressor, GradientBoostingRegressor\n",
    "from sklearn.tree import DecisionTreeRegressor\n",
    "from sklearn.model_selection import learning_curve\n",
    "from sklearn.metrics import mean_squared_error, make_scorer\n",
    "from sklearn.model_selection import train_test_split, GridSearchCV"
   ]
  },
  {
   "cell_type": "markdown",
   "metadata": {},
   "source": [
    "## Data Preparation"
   ]
  },
  {
   "cell_type": "code",
   "execution_count": 114,
   "metadata": {},
   "outputs": [
    {
     "name": "stdout",
     "output_type": "stream",
     "text": [
      "(6356792, 13)\n"
     ]
    },
    {
     "data": {
      "text/html": [
       "<div>\n",
       "<style scoped>\n",
       "    .dataframe tbody tr th:only-of-type {\n",
       "        vertical-align: middle;\n",
       "    }\n",
       "\n",
       "    .dataframe tbody tr th {\n",
       "        vertical-align: top;\n",
       "    }\n",
       "\n",
       "    .dataframe thead th {\n",
       "        text-align: right;\n",
       "    }\n",
       "</style>\n",
       "<table border=\"1\" class=\"dataframe\">\n",
       "  <thead>\n",
       "    <tr style=\"text-align: right;\">\n",
       "      <th></th>\n",
       "      <th>Year</th>\n",
       "      <th>Cust_Id</th>\n",
       "      <th>User Rating</th>\n",
       "      <th>Title</th>\n",
       "      <th>IMDb Rating</th>\n",
       "      <th>Runtime (IMDb)</th>\n",
       "      <th>Genres (IMDb)</th>\n",
       "      <th>Num Votes (IMDb)</th>\n",
       "      <th>Country</th>\n",
       "      <th>MPA Rating</th>\n",
       "      <th>Runtime (Netflix)</th>\n",
       "      <th>Listed_in</th>\n",
       "      <th>Description</th>\n",
       "    </tr>\n",
       "  </thead>\n",
       "  <tbody>\n",
       "    <tr>\n",
       "      <th>0</th>\n",
       "      <td>2003</td>\n",
       "      <td>2173336</td>\n",
       "      <td>5.0</td>\n",
       "      <td>Something's Gotta Give</td>\n",
       "      <td>6.7</td>\n",
       "      <td>128.0</td>\n",
       "      <td>Comedy, Drama, Romance</td>\n",
       "      <td>124315.0</td>\n",
       "      <td>United States</td>\n",
       "      <td>PG-13</td>\n",
       "      <td>128 min</td>\n",
       "      <td>Comedies, Romantic Movies</td>\n",
       "      <td>Still sexy at 60, Harry Sanborn wines and dine...</td>\n",
       "    </tr>\n",
       "    <tr>\n",
       "      <th>1</th>\n",
       "      <td>2003</td>\n",
       "      <td>2473170</td>\n",
       "      <td>5.0</td>\n",
       "      <td>Something's Gotta Give</td>\n",
       "      <td>6.7</td>\n",
       "      <td>128.0</td>\n",
       "      <td>Comedy, Drama, Romance</td>\n",
       "      <td>124315.0</td>\n",
       "      <td>United States</td>\n",
       "      <td>PG-13</td>\n",
       "      <td>128 min</td>\n",
       "      <td>Comedies, Romantic Movies</td>\n",
       "      <td>Still sexy at 60, Harry Sanborn wines and dine...</td>\n",
       "    </tr>\n",
       "    <tr>\n",
       "      <th>2</th>\n",
       "      <td>2003</td>\n",
       "      <td>900816</td>\n",
       "      <td>3.0</td>\n",
       "      <td>Something's Gotta Give</td>\n",
       "      <td>6.7</td>\n",
       "      <td>128.0</td>\n",
       "      <td>Comedy, Drama, Romance</td>\n",
       "      <td>124315.0</td>\n",
       "      <td>United States</td>\n",
       "      <td>PG-13</td>\n",
       "      <td>128 min</td>\n",
       "      <td>Comedies, Romantic Movies</td>\n",
       "      <td>Still sexy at 60, Harry Sanborn wines and dine...</td>\n",
       "    </tr>\n",
       "    <tr>\n",
       "      <th>3</th>\n",
       "      <td>2003</td>\n",
       "      <td>1990901</td>\n",
       "      <td>4.0</td>\n",
       "      <td>Something's Gotta Give</td>\n",
       "      <td>6.7</td>\n",
       "      <td>128.0</td>\n",
       "      <td>Comedy, Drama, Romance</td>\n",
       "      <td>124315.0</td>\n",
       "      <td>United States</td>\n",
       "      <td>PG-13</td>\n",
       "      <td>128 min</td>\n",
       "      <td>Comedies, Romantic Movies</td>\n",
       "      <td>Still sexy at 60, Harry Sanborn wines and dine...</td>\n",
       "    </tr>\n",
       "    <tr>\n",
       "      <th>4</th>\n",
       "      <td>2003</td>\n",
       "      <td>662337</td>\n",
       "      <td>4.0</td>\n",
       "      <td>Something's Gotta Give</td>\n",
       "      <td>6.7</td>\n",
       "      <td>128.0</td>\n",
       "      <td>Comedy, Drama, Romance</td>\n",
       "      <td>124315.0</td>\n",
       "      <td>United States</td>\n",
       "      <td>PG-13</td>\n",
       "      <td>128 min</td>\n",
       "      <td>Comedies, Romantic Movies</td>\n",
       "      <td>Still sexy at 60, Harry Sanborn wines and dine...</td>\n",
       "    </tr>\n",
       "  </tbody>\n",
       "</table>\n",
       "</div>"
      ],
      "text/plain": [
       "   Year  Cust_Id  User Rating                   Title  IMDb Rating  \\\n",
       "0  2003  2173336          5.0  Something's Gotta Give          6.7   \n",
       "1  2003  2473170          5.0  Something's Gotta Give          6.7   \n",
       "2  2003   900816          3.0  Something's Gotta Give          6.7   \n",
       "3  2003  1990901          4.0  Something's Gotta Give          6.7   \n",
       "4  2003   662337          4.0  Something's Gotta Give          6.7   \n",
       "\n",
       "   Runtime (IMDb)           Genres (IMDb)  Num Votes (IMDb)        Country  \\\n",
       "0           128.0  Comedy, Drama, Romance          124315.0  United States   \n",
       "1           128.0  Comedy, Drama, Romance          124315.0  United States   \n",
       "2           128.0  Comedy, Drama, Romance          124315.0  United States   \n",
       "3           128.0  Comedy, Drama, Romance          124315.0  United States   \n",
       "4           128.0  Comedy, Drama, Romance          124315.0  United States   \n",
       "\n",
       "  MPA Rating Runtime (Netflix)                  Listed_in  \\\n",
       "0      PG-13           128 min  Comedies, Romantic Movies   \n",
       "1      PG-13           128 min  Comedies, Romantic Movies   \n",
       "2      PG-13           128 min  Comedies, Romantic Movies   \n",
       "3      PG-13           128 min  Comedies, Romantic Movies   \n",
       "4      PG-13           128 min  Comedies, Romantic Movies   \n",
       "\n",
       "                                         Description  \n",
       "0  Still sexy at 60, Harry Sanborn wines and dine...  \n",
       "1  Still sexy at 60, Harry Sanborn wines and dine...  \n",
       "2  Still sexy at 60, Harry Sanborn wines and dine...  \n",
       "3  Still sexy at 60, Harry Sanborn wines and dine...  \n",
       "4  Still sexy at 60, Harry Sanborn wines and dine...  "
      ]
     },
     "execution_count": 114,
     "metadata": {},
     "output_type": "execute_result"
    }
   ],
   "source": [
    "# set low_memory=False to remove warning messages\n",
    "df = pd.read_csv('final_netflix_dataset.csv', low_memory=False, index_col=0)\n",
    "print(df.shape) #(6356792, 15)\n",
    "df.head()"
   ]
  },
  {
   "cell_type": "code",
   "execution_count": 115,
   "metadata": {},
   "outputs": [],
   "source": [
    "# getting rid of the columns that are either duplicated from the joining or useless in our model\n",
    "df.drop(columns=['Cust_Id', 'Description', 'Runtime (Netflix)'], axis=1, inplace=True)"
   ]
  },
  {
   "cell_type": "code",
   "execution_count": 116,
   "metadata": {},
   "outputs": [
    {
     "data": {
      "text/html": [
       "<div>\n",
       "<style scoped>\n",
       "    .dataframe tbody tr th:only-of-type {\n",
       "        vertical-align: middle;\n",
       "    }\n",
       "\n",
       "    .dataframe tbody tr th {\n",
       "        vertical-align: top;\n",
       "    }\n",
       "\n",
       "    .dataframe thead th {\n",
       "        text-align: right;\n",
       "    }\n",
       "</style>\n",
       "<table border=\"1\" class=\"dataframe\">\n",
       "  <thead>\n",
       "    <tr style=\"text-align: right;\">\n",
       "      <th></th>\n",
       "      <th>Year</th>\n",
       "      <th>User Rating</th>\n",
       "      <th>IMDb Rating</th>\n",
       "      <th>Runtime (IMDb)</th>\n",
       "      <th>Num Votes (IMDb)</th>\n",
       "    </tr>\n",
       "  </thead>\n",
       "  <tbody>\n",
       "    <tr>\n",
       "      <th>count</th>\n",
       "      <td>6.356792e+06</td>\n",
       "      <td>6.356792e+06</td>\n",
       "      <td>6.356792e+06</td>\n",
       "      <td>6.356716e+06</td>\n",
       "      <td>6.356792e+06</td>\n",
       "    </tr>\n",
       "    <tr>\n",
       "      <th>mean</th>\n",
       "      <td>1.996300e+03</td>\n",
       "      <td>3.657269e+00</td>\n",
       "      <td>6.958398e+00</td>\n",
       "      <td>1.150385e+02</td>\n",
       "      <td>3.352724e+05</td>\n",
       "    </tr>\n",
       "    <tr>\n",
       "      <th>std</th>\n",
       "      <td>9.111680e+00</td>\n",
       "      <td>1.051883e+00</td>\n",
       "      <td>9.231991e-01</td>\n",
       "      <td>1.962458e+01</td>\n",
       "      <td>3.772043e+05</td>\n",
       "    </tr>\n",
       "    <tr>\n",
       "      <th>min</th>\n",
       "      <td>1.924000e+03</td>\n",
       "      <td>1.000000e+00</td>\n",
       "      <td>2.300000e+00</td>\n",
       "      <td>3.000000e+01</td>\n",
       "      <td>8.100000e+01</td>\n",
       "    </tr>\n",
       "    <tr>\n",
       "      <th>25%</th>\n",
       "      <td>1.995000e+03</td>\n",
       "      <td>3.000000e+00</td>\n",
       "      <td>6.400000e+00</td>\n",
       "      <td>9.800000e+01</td>\n",
       "      <td>9.056500e+04</td>\n",
       "    </tr>\n",
       "    <tr>\n",
       "      <th>50%</th>\n",
       "      <td>1.999000e+03</td>\n",
       "      <td>4.000000e+00</td>\n",
       "      <td>6.900000e+00</td>\n",
       "      <td>1.130000e+02</td>\n",
       "      <td>2.199190e+05</td>\n",
       "    </tr>\n",
       "    <tr>\n",
       "      <th>75%</th>\n",
       "      <td>2.003000e+03</td>\n",
       "      <td>4.000000e+00</td>\n",
       "      <td>7.700000e+00</td>\n",
       "      <td>1.300000e+02</td>\n",
       "      <td>4.054810e+05</td>\n",
       "    </tr>\n",
       "    <tr>\n",
       "      <th>max</th>\n",
       "      <td>2.005000e+03</td>\n",
       "      <td>5.000000e+00</td>\n",
       "      <td>8.700000e+00</td>\n",
       "      <td>2.380000e+02</td>\n",
       "      <td>1.939078e+06</td>\n",
       "    </tr>\n",
       "  </tbody>\n",
       "</table>\n",
       "</div>"
      ],
      "text/plain": [
       "               Year   User Rating   IMDb Rating  Runtime (IMDb)  \\\n",
       "count  6.356792e+06  6.356792e+06  6.356792e+06    6.356716e+06   \n",
       "mean   1.996300e+03  3.657269e+00  6.958398e+00    1.150385e+02   \n",
       "std    9.111680e+00  1.051883e+00  9.231991e-01    1.962458e+01   \n",
       "min    1.924000e+03  1.000000e+00  2.300000e+00    3.000000e+01   \n",
       "25%    1.995000e+03  3.000000e+00  6.400000e+00    9.800000e+01   \n",
       "50%    1.999000e+03  4.000000e+00  6.900000e+00    1.130000e+02   \n",
       "75%    2.003000e+03  4.000000e+00  7.700000e+00    1.300000e+02   \n",
       "max    2.005000e+03  5.000000e+00  8.700000e+00    2.380000e+02   \n",
       "\n",
       "       Num Votes (IMDb)  \n",
       "count      6.356792e+06  \n",
       "mean       3.352724e+05  \n",
       "std        3.772043e+05  \n",
       "min        8.100000e+01  \n",
       "25%        9.056500e+04  \n",
       "50%        2.199190e+05  \n",
       "75%        4.054810e+05  \n",
       "max        1.939078e+06  "
      ]
     },
     "execution_count": 116,
     "metadata": {},
     "output_type": "execute_result"
    }
   ],
   "source": [
    "# There are some huge discrepency between these numerical varaibles, thus, scaling is needed prior fitting our model\n",
    "df.describe()"
   ]
  },
  {
   "cell_type": "code",
   "execution_count": 118,
   "metadata": {},
   "outputs": [
    {
     "data": {
      "text/html": [
       "<div>\n",
       "<style scoped>\n",
       "    .dataframe tbody tr th:only-of-type {\n",
       "        vertical-align: middle;\n",
       "    }\n",
       "\n",
       "    .dataframe tbody tr th {\n",
       "        vertical-align: top;\n",
       "    }\n",
       "\n",
       "    .dataframe thead th {\n",
       "        text-align: right;\n",
       "    }\n",
       "</style>\n",
       "<table border=\"1\" class=\"dataframe\">\n",
       "  <thead>\n",
       "    <tr style=\"text-align: right;\">\n",
       "      <th></th>\n",
       "      <th>Title</th>\n",
       "      <th>Genres (IMDb)</th>\n",
       "      <th>Country</th>\n",
       "      <th>MPA Rating</th>\n",
       "      <th>Listed_in</th>\n",
       "    </tr>\n",
       "  </thead>\n",
       "  <tbody>\n",
       "    <tr>\n",
       "      <th>count</th>\n",
       "      <td>6356792</td>\n",
       "      <td>6356792</td>\n",
       "      <td>6286508</td>\n",
       "      <td>6356792</td>\n",
       "      <td>6356792</td>\n",
       "    </tr>\n",
       "    <tr>\n",
       "      <th>unique</th>\n",
       "      <td>226</td>\n",
       "      <td>130</td>\n",
       "      <td>51</td>\n",
       "      <td>10</td>\n",
       "      <td>94</td>\n",
       "    </tr>\n",
       "    <tr>\n",
       "      <th>top</th>\n",
       "      <td>Monty Python and the Holy Grail</td>\n",
       "      <td>Comedy</td>\n",
       "      <td>United States</td>\n",
       "      <td>R</td>\n",
       "      <td>Action &amp; Adventure</td>\n",
       "    </tr>\n",
       "    <tr>\n",
       "      <th>freq</th>\n",
       "      <td>169302</td>\n",
       "      <td>358658</td>\n",
       "      <td>4114982</td>\n",
       "      <td>2448236</td>\n",
       "      <td>603859</td>\n",
       "    </tr>\n",
       "  </tbody>\n",
       "</table>\n",
       "</div>"
      ],
      "text/plain": [
       "                                  Title Genres (IMDb)        Country  \\\n",
       "count                           6356792       6356792        6286508   \n",
       "unique                              226           130             51   \n",
       "top     Monty Python and the Holy Grail        Comedy  United States   \n",
       "freq                             169302        358658        4114982   \n",
       "\n",
       "       MPA Rating           Listed_in  \n",
       "count     6356792             6356792  \n",
       "unique         10                  94  \n",
       "top             R  Action & Adventure  \n",
       "freq      2448236              603859  "
      ]
     },
     "execution_count": 118,
     "metadata": {},
     "output_type": "execute_result"
    }
   ],
   "source": [
    "# get a understaning of how many categories do we have in those categorical columns, especially eyeballing genres, rating and country.\n",
    "df[['Title', 'Genres (IMDb)', 'Country', 'MPA Rating', 'Listed_in']].describe()"
   ]
  },
  {
   "cell_type": "markdown",
   "metadata": {},
   "source": [
    "## Data Preprocessing"
   ]
  },
  {
   "cell_type": "code",
   "execution_count": 120,
   "metadata": {},
   "outputs": [],
   "source": [
    "# deal with the genre column, since it is structured as ['Comedy', 'Drama', 'Family'] in every rows, meaning that each rows can have many unique genres,\n",
    "# Therefore, the 130 unique values of genres shown above is highly over estimated.\n",
    "\n",
    "# We are getting rid of the whitespaces and comma here in each rows and make them into a list of genres.\n",
    "df['Genres (IMDb)'] = df['Genres (IMDb)'].apply(lambda x: x.replace(' ','').split(','))"
   ]
  },
  {
   "cell_type": "code",
   "execution_count": 121,
   "metadata": {},
   "outputs": [
    {
     "data": {
      "text/html": [
       "<div>\n",
       "<style scoped>\n",
       "    .dataframe tbody tr th:only-of-type {\n",
       "        vertical-align: middle;\n",
       "    }\n",
       "\n",
       "    .dataframe tbody tr th {\n",
       "        vertical-align: top;\n",
       "    }\n",
       "\n",
       "    .dataframe thead th {\n",
       "        text-align: right;\n",
       "    }\n",
       "</style>\n",
       "<table border=\"1\" class=\"dataframe\">\n",
       "  <thead>\n",
       "    <tr style=\"text-align: right;\">\n",
       "      <th></th>\n",
       "      <th>Action</th>\n",
       "      <th>Adventure</th>\n",
       "      <th>Animation</th>\n",
       "      <th>Biography</th>\n",
       "      <th>Comedy</th>\n",
       "      <th>Crime</th>\n",
       "      <th>Documentary</th>\n",
       "      <th>Drama</th>\n",
       "      <th>Family</th>\n",
       "      <th>Fantasy</th>\n",
       "      <th>...</th>\n",
       "      <th>Horror</th>\n",
       "      <th>Music</th>\n",
       "      <th>Musical</th>\n",
       "      <th>Mystery</th>\n",
       "      <th>Romance</th>\n",
       "      <th>Sci-Fi</th>\n",
       "      <th>Sport</th>\n",
       "      <th>Thriller</th>\n",
       "      <th>War</th>\n",
       "      <th>Western</th>\n",
       "    </tr>\n",
       "  </thead>\n",
       "  <tbody>\n",
       "    <tr>\n",
       "      <th>0</th>\n",
       "      <td>0</td>\n",
       "      <td>0</td>\n",
       "      <td>0</td>\n",
       "      <td>0</td>\n",
       "      <td>1</td>\n",
       "      <td>0</td>\n",
       "      <td>0</td>\n",
       "      <td>1</td>\n",
       "      <td>0</td>\n",
       "      <td>0</td>\n",
       "      <td>...</td>\n",
       "      <td>0</td>\n",
       "      <td>0</td>\n",
       "      <td>0</td>\n",
       "      <td>0</td>\n",
       "      <td>1</td>\n",
       "      <td>0</td>\n",
       "      <td>0</td>\n",
       "      <td>0</td>\n",
       "      <td>0</td>\n",
       "      <td>0</td>\n",
       "    </tr>\n",
       "    <tr>\n",
       "      <th>1</th>\n",
       "      <td>0</td>\n",
       "      <td>0</td>\n",
       "      <td>0</td>\n",
       "      <td>0</td>\n",
       "      <td>1</td>\n",
       "      <td>0</td>\n",
       "      <td>0</td>\n",
       "      <td>1</td>\n",
       "      <td>0</td>\n",
       "      <td>0</td>\n",
       "      <td>...</td>\n",
       "      <td>0</td>\n",
       "      <td>0</td>\n",
       "      <td>0</td>\n",
       "      <td>0</td>\n",
       "      <td>1</td>\n",
       "      <td>0</td>\n",
       "      <td>0</td>\n",
       "      <td>0</td>\n",
       "      <td>0</td>\n",
       "      <td>0</td>\n",
       "    </tr>\n",
       "    <tr>\n",
       "      <th>2</th>\n",
       "      <td>0</td>\n",
       "      <td>0</td>\n",
       "      <td>0</td>\n",
       "      <td>0</td>\n",
       "      <td>1</td>\n",
       "      <td>0</td>\n",
       "      <td>0</td>\n",
       "      <td>1</td>\n",
       "      <td>0</td>\n",
       "      <td>0</td>\n",
       "      <td>...</td>\n",
       "      <td>0</td>\n",
       "      <td>0</td>\n",
       "      <td>0</td>\n",
       "      <td>0</td>\n",
       "      <td>1</td>\n",
       "      <td>0</td>\n",
       "      <td>0</td>\n",
       "      <td>0</td>\n",
       "      <td>0</td>\n",
       "      <td>0</td>\n",
       "    </tr>\n",
       "    <tr>\n",
       "      <th>3</th>\n",
       "      <td>0</td>\n",
       "      <td>0</td>\n",
       "      <td>0</td>\n",
       "      <td>0</td>\n",
       "      <td>1</td>\n",
       "      <td>0</td>\n",
       "      <td>0</td>\n",
       "      <td>1</td>\n",
       "      <td>0</td>\n",
       "      <td>0</td>\n",
       "      <td>...</td>\n",
       "      <td>0</td>\n",
       "      <td>0</td>\n",
       "      <td>0</td>\n",
       "      <td>0</td>\n",
       "      <td>1</td>\n",
       "      <td>0</td>\n",
       "      <td>0</td>\n",
       "      <td>0</td>\n",
       "      <td>0</td>\n",
       "      <td>0</td>\n",
       "    </tr>\n",
       "    <tr>\n",
       "      <th>4</th>\n",
       "      <td>0</td>\n",
       "      <td>0</td>\n",
       "      <td>0</td>\n",
       "      <td>0</td>\n",
       "      <td>1</td>\n",
       "      <td>0</td>\n",
       "      <td>0</td>\n",
       "      <td>1</td>\n",
       "      <td>0</td>\n",
       "      <td>0</td>\n",
       "      <td>...</td>\n",
       "      <td>0</td>\n",
       "      <td>0</td>\n",
       "      <td>0</td>\n",
       "      <td>0</td>\n",
       "      <td>1</td>\n",
       "      <td>0</td>\n",
       "      <td>0</td>\n",
       "      <td>0</td>\n",
       "      <td>0</td>\n",
       "      <td>0</td>\n",
       "    </tr>\n",
       "  </tbody>\n",
       "</table>\n",
       "<p>5 rows × 21 columns</p>\n",
       "</div>"
      ],
      "text/plain": [
       "   Action  Adventure  Animation  Biography  Comedy  Crime  Documentary  Drama  \\\n",
       "0       0          0          0          0       1      0            0      1   \n",
       "1       0          0          0          0       1      0            0      1   \n",
       "2       0          0          0          0       1      0            0      1   \n",
       "3       0          0          0          0       1      0            0      1   \n",
       "4       0          0          0          0       1      0            0      1   \n",
       "\n",
       "   Family  Fantasy  ...  Horror  Music  Musical  Mystery  Romance  Sci-Fi  \\\n",
       "0       0        0  ...       0      0        0        0        1       0   \n",
       "1       0        0  ...       0      0        0        0        1       0   \n",
       "2       0        0  ...       0      0        0        0        1       0   \n",
       "3       0        0  ...       0      0        0        0        1       0   \n",
       "4       0        0  ...       0      0        0        0        1       0   \n",
       "\n",
       "   Sport  Thriller  War  Western  \n",
       "0      0         0    0        0  \n",
       "1      0         0    0        0  \n",
       "2      0         0    0        0  \n",
       "3      0         0    0        0  \n",
       "4      0         0    0        0  \n",
       "\n",
       "[5 rows x 21 columns]"
      ]
     },
     "execution_count": 121,
     "metadata": {},
     "output_type": "execute_result"
    }
   ],
   "source": [
    "# performing one-hot encoding with multilabelbinarizer which suits large-scale dataset better, \n",
    "# especially when we have multiple labels in one column\n",
    "mlb = MultiLabelBinarizer()\n",
    "genres_dummies = pd.DataFrame(mlb.fit_transform(df['Genres (IMDb)']), columns=mlb.classes_, index=df.index)\n",
    "genres_dummies[:5]"
   ]
  },
  {
   "cell_type": "code",
   "execution_count": 122,
   "metadata": {},
   "outputs": [
    {
     "data": {
      "text/html": [
       "<div>\n",
       "<style scoped>\n",
       "    .dataframe tbody tr th:only-of-type {\n",
       "        vertical-align: middle;\n",
       "    }\n",
       "\n",
       "    .dataframe tbody tr th {\n",
       "        vertical-align: top;\n",
       "    }\n",
       "\n",
       "    .dataframe thead th {\n",
       "        text-align: right;\n",
       "    }\n",
       "</style>\n",
       "<table border=\"1\" class=\"dataframe\">\n",
       "  <thead>\n",
       "    <tr style=\"text-align: right;\">\n",
       "      <th></th>\n",
       "      <th>Year</th>\n",
       "      <th>User Rating</th>\n",
       "      <th>Title</th>\n",
       "      <th>IMDb Rating</th>\n",
       "      <th>Runtime (IMDb)</th>\n",
       "      <th>Num Votes (IMDb)</th>\n",
       "      <th>Country</th>\n",
       "      <th>MPA Rating</th>\n",
       "      <th>Listed_in</th>\n",
       "      <th>Action</th>\n",
       "      <th>...</th>\n",
       "      <th>Horror</th>\n",
       "      <th>Music</th>\n",
       "      <th>Musical</th>\n",
       "      <th>Mystery</th>\n",
       "      <th>Romance</th>\n",
       "      <th>Sci-Fi</th>\n",
       "      <th>Sport</th>\n",
       "      <th>Thriller</th>\n",
       "      <th>War</th>\n",
       "      <th>Western</th>\n",
       "    </tr>\n",
       "  </thead>\n",
       "  <tbody>\n",
       "    <tr>\n",
       "      <th>0</th>\n",
       "      <td>2003</td>\n",
       "      <td>5.0</td>\n",
       "      <td>Something's Gotta Give</td>\n",
       "      <td>6.7</td>\n",
       "      <td>128.0</td>\n",
       "      <td>124315.0</td>\n",
       "      <td>United States</td>\n",
       "      <td>PG-13</td>\n",
       "      <td>Comedies, Romantic Movies</td>\n",
       "      <td>0</td>\n",
       "      <td>...</td>\n",
       "      <td>0</td>\n",
       "      <td>0</td>\n",
       "      <td>0</td>\n",
       "      <td>0</td>\n",
       "      <td>1</td>\n",
       "      <td>0</td>\n",
       "      <td>0</td>\n",
       "      <td>0</td>\n",
       "      <td>0</td>\n",
       "      <td>0</td>\n",
       "    </tr>\n",
       "    <tr>\n",
       "      <th>1</th>\n",
       "      <td>2003</td>\n",
       "      <td>5.0</td>\n",
       "      <td>Something's Gotta Give</td>\n",
       "      <td>6.7</td>\n",
       "      <td>128.0</td>\n",
       "      <td>124315.0</td>\n",
       "      <td>United States</td>\n",
       "      <td>PG-13</td>\n",
       "      <td>Comedies, Romantic Movies</td>\n",
       "      <td>0</td>\n",
       "      <td>...</td>\n",
       "      <td>0</td>\n",
       "      <td>0</td>\n",
       "      <td>0</td>\n",
       "      <td>0</td>\n",
       "      <td>1</td>\n",
       "      <td>0</td>\n",
       "      <td>0</td>\n",
       "      <td>0</td>\n",
       "      <td>0</td>\n",
       "      <td>0</td>\n",
       "    </tr>\n",
       "    <tr>\n",
       "      <th>2</th>\n",
       "      <td>2003</td>\n",
       "      <td>3.0</td>\n",
       "      <td>Something's Gotta Give</td>\n",
       "      <td>6.7</td>\n",
       "      <td>128.0</td>\n",
       "      <td>124315.0</td>\n",
       "      <td>United States</td>\n",
       "      <td>PG-13</td>\n",
       "      <td>Comedies, Romantic Movies</td>\n",
       "      <td>0</td>\n",
       "      <td>...</td>\n",
       "      <td>0</td>\n",
       "      <td>0</td>\n",
       "      <td>0</td>\n",
       "      <td>0</td>\n",
       "      <td>1</td>\n",
       "      <td>0</td>\n",
       "      <td>0</td>\n",
       "      <td>0</td>\n",
       "      <td>0</td>\n",
       "      <td>0</td>\n",
       "    </tr>\n",
       "    <tr>\n",
       "      <th>3</th>\n",
       "      <td>2003</td>\n",
       "      <td>4.0</td>\n",
       "      <td>Something's Gotta Give</td>\n",
       "      <td>6.7</td>\n",
       "      <td>128.0</td>\n",
       "      <td>124315.0</td>\n",
       "      <td>United States</td>\n",
       "      <td>PG-13</td>\n",
       "      <td>Comedies, Romantic Movies</td>\n",
       "      <td>0</td>\n",
       "      <td>...</td>\n",
       "      <td>0</td>\n",
       "      <td>0</td>\n",
       "      <td>0</td>\n",
       "      <td>0</td>\n",
       "      <td>1</td>\n",
       "      <td>0</td>\n",
       "      <td>0</td>\n",
       "      <td>0</td>\n",
       "      <td>0</td>\n",
       "      <td>0</td>\n",
       "    </tr>\n",
       "    <tr>\n",
       "      <th>4</th>\n",
       "      <td>2003</td>\n",
       "      <td>4.0</td>\n",
       "      <td>Something's Gotta Give</td>\n",
       "      <td>6.7</td>\n",
       "      <td>128.0</td>\n",
       "      <td>124315.0</td>\n",
       "      <td>United States</td>\n",
       "      <td>PG-13</td>\n",
       "      <td>Comedies, Romantic Movies</td>\n",
       "      <td>0</td>\n",
       "      <td>...</td>\n",
       "      <td>0</td>\n",
       "      <td>0</td>\n",
       "      <td>0</td>\n",
       "      <td>0</td>\n",
       "      <td>1</td>\n",
       "      <td>0</td>\n",
       "      <td>0</td>\n",
       "      <td>0</td>\n",
       "      <td>0</td>\n",
       "      <td>0</td>\n",
       "    </tr>\n",
       "  </tbody>\n",
       "</table>\n",
       "<p>5 rows × 30 columns</p>\n",
       "</div>"
      ],
      "text/plain": [
       "   Year  User Rating                   Title  IMDb Rating  Runtime (IMDb)  \\\n",
       "0  2003          5.0  Something's Gotta Give          6.7           128.0   \n",
       "1  2003          5.0  Something's Gotta Give          6.7           128.0   \n",
       "2  2003          3.0  Something's Gotta Give          6.7           128.0   \n",
       "3  2003          4.0  Something's Gotta Give          6.7           128.0   \n",
       "4  2003          4.0  Something's Gotta Give          6.7           128.0   \n",
       "\n",
       "   Num Votes (IMDb)        Country MPA Rating                  Listed_in  \\\n",
       "0          124315.0  United States      PG-13  Comedies, Romantic Movies   \n",
       "1          124315.0  United States      PG-13  Comedies, Romantic Movies   \n",
       "2          124315.0  United States      PG-13  Comedies, Romantic Movies   \n",
       "3          124315.0  United States      PG-13  Comedies, Romantic Movies   \n",
       "4          124315.0  United States      PG-13  Comedies, Romantic Movies   \n",
       "\n",
       "   Action  ...  Horror  Music  Musical  Mystery  Romance  Sci-Fi  Sport  \\\n",
       "0       0  ...       0      0        0        0        1       0      0   \n",
       "1       0  ...       0      0        0        0        1       0      0   \n",
       "2       0  ...       0      0        0        0        1       0      0   \n",
       "3       0  ...       0      0        0        0        1       0      0   \n",
       "4       0  ...       0      0        0        0        1       0      0   \n",
       "\n",
       "   Thriller  War  Western  \n",
       "0         0    0        0  \n",
       "1         0    0        0  \n",
       "2         0    0        0  \n",
       "3         0    0        0  \n",
       "4         0    0        0  \n",
       "\n",
       "[5 rows x 30 columns]"
      ]
     },
     "execution_count": 122,
     "metadata": {},
     "output_type": "execute_result"
    }
   ],
   "source": [
    "# Since we only got 21 columns from our genres, it is not too big of a deal to include all of them into my dataframe\n",
    "df_final = pd.concat([df, genres_dummies], axis=1)\n",
    "df_final = df_final.drop('Genres (IMDb)', axis=1)\n",
    "df_final.head()"
   ]
  },
  {
   "cell_type": "code",
   "execution_count": 10,
   "metadata": {},
   "outputs": [
    {
     "data": {
      "text/plain": [
       "\" df.Listed_in = df.Listed_in.apply(lambda x: x.replace(' ','').split(','))\\nmlb = MultiLabelBinarizer()\\nListed_in_dummies = pd.DataFrame(mlb.fit_transform(df['Listed_in']), columns=mlb.classes_, index=df.index)\\nListed_in_dummies[:5] \""
      ]
     },
     "execution_count": 10,
     "metadata": {},
     "output_type": "execute_result"
    }
   ],
   "source": [
    "# Listed_in consists of genres labeled by Netflix, however it is labeled in a way that is harder to tackle and might have huge \n",
    "# overlaps with the genres column, therefore we are not using it in our anaysis\n",
    "\"\"\" df.Listed_in = df.Listed_in.apply(lambda x: x.replace(' ','').split(','))\n",
    "mlb = MultiLabelBinarizer()\n",
    "Listed_in_dummies = pd.DataFrame(mlb.fit_transform(df['Listed_in']), columns=mlb.classes_, index=df.index)\n",
    "Listed_in_dummies[:5] \"\"\""
   ]
  },
  {
   "cell_type": "code",
   "execution_count": 124,
   "metadata": {},
   "outputs": [
    {
     "data": {
      "text/html": [
       "<div>\n",
       "<style scoped>\n",
       "    .dataframe tbody tr th:only-of-type {\n",
       "        vertical-align: middle;\n",
       "    }\n",
       "\n",
       "    .dataframe tbody tr th {\n",
       "        vertical-align: top;\n",
       "    }\n",
       "\n",
       "    .dataframe thead th {\n",
       "        text-align: right;\n",
       "    }\n",
       "</style>\n",
       "<table border=\"1\" class=\"dataframe\">\n",
       "  <thead>\n",
       "    <tr style=\"text-align: right;\">\n",
       "      <th></th>\n",
       "      <th>Year</th>\n",
       "      <th>MPA Rating_G</th>\n",
       "      <th>MPA Rating_NR</th>\n",
       "      <th>MPA Rating_PG</th>\n",
       "      <th>MPA Rating_PG-13</th>\n",
       "      <th>MPA Rating_R</th>\n",
       "      <th>MPA Rating_TV-14</th>\n",
       "      <th>MPA Rating_TV-G</th>\n",
       "      <th>MPA Rating_TV-MA</th>\n",
       "      <th>MPA Rating_TV-PG</th>\n",
       "      <th>MPA Rating_TV-Y7</th>\n",
       "    </tr>\n",
       "  </thead>\n",
       "  <tbody>\n",
       "    <tr>\n",
       "      <th>0</th>\n",
       "      <td>43.0</td>\n",
       "      <td>0.0</td>\n",
       "      <td>0.0</td>\n",
       "      <td>0.0</td>\n",
       "      <td>1.0</td>\n",
       "      <td>0.0</td>\n",
       "      <td>0.0</td>\n",
       "      <td>0.0</td>\n",
       "      <td>0.0</td>\n",
       "      <td>0.0</td>\n",
       "      <td>0.0</td>\n",
       "    </tr>\n",
       "    <tr>\n",
       "      <th>1</th>\n",
       "      <td>43.0</td>\n",
       "      <td>0.0</td>\n",
       "      <td>0.0</td>\n",
       "      <td>0.0</td>\n",
       "      <td>1.0</td>\n",
       "      <td>0.0</td>\n",
       "      <td>0.0</td>\n",
       "      <td>0.0</td>\n",
       "      <td>0.0</td>\n",
       "      <td>0.0</td>\n",
       "      <td>0.0</td>\n",
       "    </tr>\n",
       "    <tr>\n",
       "      <th>2</th>\n",
       "      <td>43.0</td>\n",
       "      <td>0.0</td>\n",
       "      <td>0.0</td>\n",
       "      <td>0.0</td>\n",
       "      <td>1.0</td>\n",
       "      <td>0.0</td>\n",
       "      <td>0.0</td>\n",
       "      <td>0.0</td>\n",
       "      <td>0.0</td>\n",
       "      <td>0.0</td>\n",
       "      <td>0.0</td>\n",
       "    </tr>\n",
       "    <tr>\n",
       "      <th>3</th>\n",
       "      <td>43.0</td>\n",
       "      <td>0.0</td>\n",
       "      <td>0.0</td>\n",
       "      <td>0.0</td>\n",
       "      <td>1.0</td>\n",
       "      <td>0.0</td>\n",
       "      <td>0.0</td>\n",
       "      <td>0.0</td>\n",
       "      <td>0.0</td>\n",
       "      <td>0.0</td>\n",
       "      <td>0.0</td>\n",
       "    </tr>\n",
       "    <tr>\n",
       "      <th>4</th>\n",
       "      <td>43.0</td>\n",
       "      <td>0.0</td>\n",
       "      <td>0.0</td>\n",
       "      <td>0.0</td>\n",
       "      <td>1.0</td>\n",
       "      <td>0.0</td>\n",
       "      <td>0.0</td>\n",
       "      <td>0.0</td>\n",
       "      <td>0.0</td>\n",
       "      <td>0.0</td>\n",
       "      <td>0.0</td>\n",
       "    </tr>\n",
       "  </tbody>\n",
       "</table>\n",
       "</div>"
      ],
      "text/plain": [
       "   Year  MPA Rating_G  MPA Rating_NR  MPA Rating_PG  MPA Rating_PG-13  \\\n",
       "0  43.0           0.0            0.0            0.0               1.0   \n",
       "1  43.0           0.0            0.0            0.0               1.0   \n",
       "2  43.0           0.0            0.0            0.0               1.0   \n",
       "3  43.0           0.0            0.0            0.0               1.0   \n",
       "4  43.0           0.0            0.0            0.0               1.0   \n",
       "\n",
       "   MPA Rating_R  MPA Rating_TV-14  MPA Rating_TV-G  MPA Rating_TV-MA  \\\n",
       "0           0.0               0.0              0.0               0.0   \n",
       "1           0.0               0.0              0.0               0.0   \n",
       "2           0.0               0.0              0.0               0.0   \n",
       "3           0.0               0.0              0.0               0.0   \n",
       "4           0.0               0.0              0.0               0.0   \n",
       "\n",
       "   MPA Rating_TV-PG  MPA Rating_TV-Y7  \n",
       "0               0.0               0.0  \n",
       "1               0.0               0.0  \n",
       "2               0.0               0.0  \n",
       "3               0.0               0.0  \n",
       "4               0.0               0.0  "
      ]
     },
     "execution_count": 124,
     "metadata": {},
     "output_type": "execute_result"
    }
   ],
   "source": [
    "# perform one-hot encoding on our Rating column and ordinal encoding on year column\n",
    "ordinal_encoder = OrdinalEncoder()\n",
    "one_hot_encoder = OneHotEncoder()\n",
    "\n",
    "# Define a preprocessor using ColumnTransformer\n",
    "preprocessor = ColumnTransformer(\n",
    "    transformers=[\n",
    "        ('year_encoder', ordinal_encoder, ['Year']),\n",
    "        ('rating_encoder', one_hot_encoder, ['MPA Rating'])\n",
    "    ])\n",
    "\n",
    "# We create a pipeline here to do the ordinal_encoding and one_hot encoding for us in a more robust way to avoid data leakage\n",
    "pipeline = Pipeline(steps=[('preprocessor', preprocessor)])\n",
    "df_transformed = pipeline.fit_transform(df_final)\n",
    "\n",
    "# Get the rating columns after doing one-hot encoding to it\n",
    "rating_columns = pipeline.named_steps['preprocessor'].named_transformers_['rating_encoder'].get_feature_names_out(['MPA Rating'])\n",
    "\n",
    "# Combine column names\n",
    "columns = ['Year'] + list(rating_columns)\n",
    "\n",
    "df_transformed = pd.DataFrame(df_transformed.toarray(), columns=columns)\n",
    "df_transformed.head()"
   ]
  },
  {
   "cell_type": "code",
   "execution_count": 126,
   "metadata": {},
   "outputs": [
    {
     "data": {
      "text/html": [
       "<div>\n",
       "<style scoped>\n",
       "    .dataframe tbody tr th:only-of-type {\n",
       "        vertical-align: middle;\n",
       "    }\n",
       "\n",
       "    .dataframe tbody tr th {\n",
       "        vertical-align: top;\n",
       "    }\n",
       "\n",
       "    .dataframe thead th {\n",
       "        text-align: right;\n",
       "    }\n",
       "</style>\n",
       "<table border=\"1\" class=\"dataframe\">\n",
       "  <thead>\n",
       "    <tr style=\"text-align: right;\">\n",
       "      <th></th>\n",
       "      <th>User Rating</th>\n",
       "      <th>IMDb Rating</th>\n",
       "      <th>Runtime (IMDb)</th>\n",
       "      <th>Num Votes (IMDb)</th>\n",
       "      <th>Action</th>\n",
       "      <th>Adventure</th>\n",
       "      <th>Animation</th>\n",
       "      <th>Biography</th>\n",
       "      <th>Comedy</th>\n",
       "      <th>Crime</th>\n",
       "      <th>...</th>\n",
       "      <th>MPA Rating_G</th>\n",
       "      <th>MPA Rating_NR</th>\n",
       "      <th>MPA Rating_PG</th>\n",
       "      <th>MPA Rating_PG-13</th>\n",
       "      <th>MPA Rating_R</th>\n",
       "      <th>MPA Rating_TV-14</th>\n",
       "      <th>MPA Rating_TV-G</th>\n",
       "      <th>MPA Rating_TV-MA</th>\n",
       "      <th>MPA Rating_TV-PG</th>\n",
       "      <th>MPA Rating_TV-Y7</th>\n",
       "    </tr>\n",
       "  </thead>\n",
       "  <tbody>\n",
       "    <tr>\n",
       "      <th>0</th>\n",
       "      <td>5.0</td>\n",
       "      <td>6.7</td>\n",
       "      <td>128.0</td>\n",
       "      <td>124315.0</td>\n",
       "      <td>0</td>\n",
       "      <td>0</td>\n",
       "      <td>0</td>\n",
       "      <td>0</td>\n",
       "      <td>1</td>\n",
       "      <td>0</td>\n",
       "      <td>...</td>\n",
       "      <td>0.0</td>\n",
       "      <td>0.0</td>\n",
       "      <td>0.0</td>\n",
       "      <td>1.0</td>\n",
       "      <td>0.0</td>\n",
       "      <td>0.0</td>\n",
       "      <td>0.0</td>\n",
       "      <td>0.0</td>\n",
       "      <td>0.0</td>\n",
       "      <td>0.0</td>\n",
       "    </tr>\n",
       "    <tr>\n",
       "      <th>1</th>\n",
       "      <td>5.0</td>\n",
       "      <td>6.7</td>\n",
       "      <td>128.0</td>\n",
       "      <td>124315.0</td>\n",
       "      <td>0</td>\n",
       "      <td>0</td>\n",
       "      <td>0</td>\n",
       "      <td>0</td>\n",
       "      <td>1</td>\n",
       "      <td>0</td>\n",
       "      <td>...</td>\n",
       "      <td>0.0</td>\n",
       "      <td>0.0</td>\n",
       "      <td>0.0</td>\n",
       "      <td>1.0</td>\n",
       "      <td>0.0</td>\n",
       "      <td>0.0</td>\n",
       "      <td>0.0</td>\n",
       "      <td>0.0</td>\n",
       "      <td>0.0</td>\n",
       "      <td>0.0</td>\n",
       "    </tr>\n",
       "    <tr>\n",
       "      <th>2</th>\n",
       "      <td>3.0</td>\n",
       "      <td>6.7</td>\n",
       "      <td>128.0</td>\n",
       "      <td>124315.0</td>\n",
       "      <td>0</td>\n",
       "      <td>0</td>\n",
       "      <td>0</td>\n",
       "      <td>0</td>\n",
       "      <td>1</td>\n",
       "      <td>0</td>\n",
       "      <td>...</td>\n",
       "      <td>0.0</td>\n",
       "      <td>0.0</td>\n",
       "      <td>0.0</td>\n",
       "      <td>1.0</td>\n",
       "      <td>0.0</td>\n",
       "      <td>0.0</td>\n",
       "      <td>0.0</td>\n",
       "      <td>0.0</td>\n",
       "      <td>0.0</td>\n",
       "      <td>0.0</td>\n",
       "    </tr>\n",
       "    <tr>\n",
       "      <th>3</th>\n",
       "      <td>4.0</td>\n",
       "      <td>6.7</td>\n",
       "      <td>128.0</td>\n",
       "      <td>124315.0</td>\n",
       "      <td>0</td>\n",
       "      <td>0</td>\n",
       "      <td>0</td>\n",
       "      <td>0</td>\n",
       "      <td>1</td>\n",
       "      <td>0</td>\n",
       "      <td>...</td>\n",
       "      <td>0.0</td>\n",
       "      <td>0.0</td>\n",
       "      <td>0.0</td>\n",
       "      <td>1.0</td>\n",
       "      <td>0.0</td>\n",
       "      <td>0.0</td>\n",
       "      <td>0.0</td>\n",
       "      <td>0.0</td>\n",
       "      <td>0.0</td>\n",
       "      <td>0.0</td>\n",
       "    </tr>\n",
       "    <tr>\n",
       "      <th>4</th>\n",
       "      <td>4.0</td>\n",
       "      <td>6.7</td>\n",
       "      <td>128.0</td>\n",
       "      <td>124315.0</td>\n",
       "      <td>0</td>\n",
       "      <td>0</td>\n",
       "      <td>0</td>\n",
       "      <td>0</td>\n",
       "      <td>1</td>\n",
       "      <td>0</td>\n",
       "      <td>...</td>\n",
       "      <td>0.0</td>\n",
       "      <td>0.0</td>\n",
       "      <td>0.0</td>\n",
       "      <td>1.0</td>\n",
       "      <td>0.0</td>\n",
       "      <td>0.0</td>\n",
       "      <td>0.0</td>\n",
       "      <td>0.0</td>\n",
       "      <td>0.0</td>\n",
       "      <td>0.0</td>\n",
       "    </tr>\n",
       "  </tbody>\n",
       "</table>\n",
       "<p>5 rows × 36 columns</p>\n",
       "</div>"
      ],
      "text/plain": [
       "   User Rating  IMDb Rating  Runtime (IMDb)  Num Votes (IMDb)  Action  \\\n",
       "0          5.0          6.7           128.0          124315.0       0   \n",
       "1          5.0          6.7           128.0          124315.0       0   \n",
       "2          3.0          6.7           128.0          124315.0       0   \n",
       "3          4.0          6.7           128.0          124315.0       0   \n",
       "4          4.0          6.7           128.0          124315.0       0   \n",
       "\n",
       "   Adventure  Animation  Biography  Comedy  Crime  ...  MPA Rating_G  \\\n",
       "0          0          0          0       1      0  ...           0.0   \n",
       "1          0          0          0       1      0  ...           0.0   \n",
       "2          0          0          0       1      0  ...           0.0   \n",
       "3          0          0          0       1      0  ...           0.0   \n",
       "4          0          0          0       1      0  ...           0.0   \n",
       "\n",
       "   MPA Rating_NR  MPA Rating_PG  MPA Rating_PG-13  MPA Rating_R  \\\n",
       "0            0.0            0.0               1.0           0.0   \n",
       "1            0.0            0.0               1.0           0.0   \n",
       "2            0.0            0.0               1.0           0.0   \n",
       "3            0.0            0.0               1.0           0.0   \n",
       "4            0.0            0.0               1.0           0.0   \n",
       "\n",
       "   MPA Rating_TV-14  MPA Rating_TV-G  MPA Rating_TV-MA  MPA Rating_TV-PG  \\\n",
       "0               0.0              0.0               0.0               0.0   \n",
       "1               0.0              0.0               0.0               0.0   \n",
       "2               0.0              0.0               0.0               0.0   \n",
       "3               0.0              0.0               0.0               0.0   \n",
       "4               0.0              0.0               0.0               0.0   \n",
       "\n",
       "   MPA Rating_TV-Y7  \n",
       "0               0.0  \n",
       "1               0.0  \n",
       "2               0.0  \n",
       "3               0.0  \n",
       "4               0.0  \n",
       "\n",
       "[5 rows x 36 columns]"
      ]
     },
     "execution_count": 126,
     "metadata": {},
     "output_type": "execute_result"
    }
   ],
   "source": [
    "# We drop Rating and Year after performing encoding above\n",
    "# Drop Listed_in due to potential serious overlap\n",
    "# Drop title, directors and country since they all have numerous distinct value which won't bring much information to the model and might\n",
    "# create a huge sparse matrix if do one-hot encoding on them.\n",
    "df_final = df_final.drop(columns=['MPA Rating', 'Year', 'Title', 'Country', 'Listed_in'], axis=1)\n",
    "df_final = pd.concat([df_final, df_transformed], axis=1)\n",
    "df_final.head()"
   ]
  },
  {
   "cell_type": "code",
   "execution_count": 127,
   "metadata": {},
   "outputs": [
    {
     "name": "stdout",
     "output_type": "stream",
     "text": [
      "User Rating          0\n",
      "IMDb Rating          0\n",
      "Runtime (IMDb)      76\n",
      "Num Votes (IMDb)     0\n",
      "Action               0\n",
      "Adventure            0\n",
      "Animation            0\n",
      "Biography            0\n",
      "Comedy               0\n",
      "Crime                0\n",
      "Documentary          0\n",
      "Drama                0\n",
      "Family               0\n",
      "Fantasy              0\n",
      "History              0\n",
      "Horror               0\n",
      "Music                0\n",
      "Musical              0\n",
      "Mystery              0\n",
      "Romance              0\n",
      "Sci-Fi               0\n",
      "Sport                0\n",
      "Thriller             0\n",
      "War                  0\n",
      "Western              0\n",
      "Year                 0\n",
      "MPA Rating_G         0\n",
      "MPA Rating_NR        0\n",
      "MPA Rating_PG        0\n",
      "MPA Rating_PG-13     0\n",
      "MPA Rating_R         0\n",
      "MPA Rating_TV-14     0\n",
      "MPA Rating_TV-G      0\n",
      "MPA Rating_TV-MA     0\n",
      "MPA Rating_TV-PG     0\n",
      "MPA Rating_TV-Y7     0\n",
      "dtype: int64\n"
     ]
    }
   ],
   "source": [
    "# drop 76 rows that contain NAs is trivial in our 6M rows dataset\n",
    "print(df_final.isna().sum())\n",
    "df_final.dropna(inplace=True)"
   ]
  },
  {
   "cell_type": "code",
   "execution_count": 128,
   "metadata": {},
   "outputs": [
    {
     "name": "stdout",
     "output_type": "stream",
     "text": [
      "All columns are numerical.\n"
     ]
    }
   ],
   "source": [
    "#checking if all columns are numerical and are ready to put into ML models\n",
    "non_numeric_columns = df_final.select_dtypes(exclude=['number'])\n",
    "\n",
    "if non_numeric_columns.empty:\n",
    "    print(\"All columns are numerical.\")\n",
    "else:\n",
    "    print(\"Non-numeric columns:\\n\", non_numeric_columns.columns)"
   ]
  },
  {
   "cell_type": "markdown",
   "metadata": {},
   "source": [
    "## Visualization"
   ]
  },
  {
   "cell_type": "code",
   "execution_count": 129,
   "metadata": {},
   "outputs": [
    {
     "data": {
      "text/plain": [
       "<AxesSubplot: xlabel='IMDb Rating', ylabel='Density'>"
      ]
     },
     "execution_count": 129,
     "metadata": {},
     "output_type": "execute_result"
    },
    {
     "data": {
      "image/png": "[encoded data removed]",
      "text/plain": [
       "<Figure size 640x480 with 1 Axes>"
      ]
     },
     "metadata": {},
     "output_type": "display_data"
    }
   ],
   "source": [
    "# plot out a density plot of our target variable to see the distribution of it\n",
    "sns.kdeplot(df_final['IMDb Rating'])"
   ]
  },
  {
   "cell_type": "code",
   "execution_count": 130,
   "metadata": {},
   "outputs": [
    {
     "data": {
      "text/plain": [
       "<AxesSubplot: >"
      ]
     },
     "execution_count": 130,
     "metadata": {},
     "output_type": "execute_result"
    },
    {
     "data": {
      "image/png": "[encoded data removed]",
      "text/plain": [
       "<Figure size 1600x1400 with 2 Axes>"
      ]
     },
     "metadata": {},
     "output_type": "display_data"
    }
   ],
   "source": [
    "# plot out a heatmap to make sure no two columns are having collinearity\n",
    "plt.figure(figsize=(16, 14))\n",
    "\n",
    "corr_matrix = df_final.corr()\n",
    "sns.heatmap(corr_matrix, cmap='coolwarm')"
   ]
  },
  {
   "cell_type": "markdown",
   "metadata": {},
   "source": [
    "## Data Split"
   ]
  },
  {
   "cell_type": "code",
   "execution_count": 138,
   "metadata": {},
   "outputs": [],
   "source": [
    "# create a copy of the original dataset in case something goes wrong\n",
    "data = df_final.copy()\n",
    "seed = 7"
   ]
  },
  {
   "cell_type": "code",
   "execution_count": 139,
   "metadata": {},
   "outputs": [],
   "source": [
    "X = data.drop('IMDb Rating', axis=1)\n",
    "y = data['IMDb Rating']"
   ]
  },
  {
   "cell_type": "code",
   "execution_count": 140,
   "metadata": {},
   "outputs": [
    {
     "name": "stdout",
     "output_type": "stream",
     "text": [
      "(6356716, 36)\n",
      "(5085372, 35)\n",
      "(1271344, 35)\n",
      "(5085372,)\n",
      "(1271344,)\n"
     ]
    }
   ],
   "source": [
    "# split the data into train and test\n",
    "X_train, X_test, y_train, y_test = train_test_split(X, y, random_state=seed, test_size=0.2)\n",
    "print(data.shape)\n",
    "print(X_train.shape)\n",
    "print(X_test.shape)\n",
    "print(y_train.shape)\n",
    "print(y_test.shape)"
   ]
  },
  {
   "cell_type": "markdown",
   "metadata": {},
   "source": [
    "## Scaling"
   ]
  },
  {
   "cell_type": "code",
   "execution_count": 141,
   "metadata": {},
   "outputs": [],
   "source": [
    "scaler = StandardScaler()\n",
    "\n",
    "X_train_scaled = scaler.fit_transform(X_train)\n",
    "X_test_scaled = scaler.transform(X_test)"
   ]
  },
  {
   "cell_type": "code",
   "execution_count": 142,
   "metadata": {},
   "outputs": [
    {
     "name": "stdout",
     "output_type": "stream",
     "text": [
      "[6.95826026 6.95826026 6.95826026 ... 6.95826026 6.95826026 6.95826026]\n"
     ]
    }
   ],
   "source": [
    "mean_of_y_train = np.mean(y_train)\n",
    "arr = np.full(len(y_train), mean_of_y_train) \n",
    "print(arr)"
   ]
  },
  {
   "cell_type": "markdown",
   "metadata": {},
   "source": [
    "## Baseline"
   ]
  },
  {
   "cell_type": "code",
   "execution_count": 143,
   "metadata": {},
   "outputs": [
    {
     "data": {
      "text/plain": [
       "0.923110245569982"
      ]
     },
     "execution_count": 143,
     "metadata": {},
     "output_type": "execute_result"
    }
   ],
   "source": [
    "np.sqrt(mean_squared_error(y_train, arr))"
   ]
  },
  {
   "cell_type": "markdown",
   "metadata": {},
   "source": [
    "## Modeling"
   ]
  },
  {
   "cell_type": "markdown",
   "metadata": {},
   "source": [
    "### Random Forest Regressor"
   ]
  },
  {
   "cell_type": "code",
   "execution_count": 144,
   "metadata": {},
   "outputs": [
    {
     "name": "stdout",
     "output_type": "stream",
     "text": [
      "RMSE for Random Forest Regressor: 3.770001907938021e-12\n"
     ]
    }
   ],
   "source": [
    "#fitting the first model\n",
    "rfr = RandomForestRegressor(random_state=seed)\n",
    "\n",
    "rfr.fit(X_train_scaled, y_train)\n",
    "y_pred_rfr = rfr.predict(X_test_scaled)\n",
    "\n",
    "print('RMSE for Random Forest Regressor:', np.sqrt(mean_squared_error(y_test, y_pred_rfr)))"
   ]
  },
  {
   "cell_type": "markdown",
   "metadata": {},
   "source": [
    "### Gradient Boosting Regressor"
   ]
  },
  {
   "cell_type": "code",
   "execution_count": 145,
   "metadata": {},
   "outputs": [
    {
     "name": "stdout",
     "output_type": "stream",
     "text": [
      "RMSE for Gradient Boosting Regressor: 0.18308597683447597\n"
     ]
    }
   ],
   "source": [
    "#fitting the second model\n",
    "gbr = GradientBoostingRegressor(random_state=seed)\n",
    "\n",
    "gbr.fit(X_train_scaled, y_train)\n",
    "y_pred_gbr = gbr.predict(X_test_scaled)\n",
    "\n",
    "print('RMSE for Gradient Boosting Regressor:', np.sqrt(mean_squared_error(y_test, y_pred_gbr)))"
   ]
  },
  {
   "cell_type": "markdown",
   "metadata": {},
   "source": [
    "### Decision Tree\n",
    "\n",
    "Although decision tree regressor is getting us a lowest rmse but the result is clearly too good to be true, we are testing whether it might be overfitting."
   ]
  },
  {
   "cell_type": "code",
   "execution_count": 146,
   "metadata": {},
   "outputs": [
    {
     "name": "stdout",
     "output_type": "stream",
     "text": [
      "RMSE for Decision Tree Regressor: 1.0041536114944077e-11\n"
     ]
    }
   ],
   "source": [
    "#fitting the third model\n",
    "dtr = DecisionTreeRegressor(random_state=seed)\n",
    "\n",
    "dtr.fit(X_train_scaled, y_train)\n",
    "y_pred_dtr = dtr.predict(X_test_scaled)\n",
    "\n",
    "print('RMSE for Decision Tree Regressor:', np.sqrt(mean_squared_error(y_test, y_pred_dtr)))"
   ]
  },
  {
   "cell_type": "markdown",
   "metadata": {},
   "source": [
    "This graph shows that the decision tree model is not overfitting as we might thought, in reality, it is still under fitting. However, the random forest model is performing better than it, so we dive into parameter tuning for random forest regressor only.\n"
   ]
  },
  {
   "cell_type": "code",
   "execution_count": 147,
   "metadata": {},
   "outputs": [
    {
     "data": {
      "image/png": "[encoded data removed]",
      "text/plain": [
       "<Figure size 800x600 with 1 Axes>"
      ]
     },
     "metadata": {},
     "output_type": "display_data"
    }
   ],
   "source": [
    "train_sizes, train_scores, test_scores = learning_curve(dtr, X_train_scaled, y_train, cv=5, n_jobs=-1, scoring='neg_mean_squared_error')\n",
    "\n",
    "# make the MSE positive so we can get the RMSE\n",
    "train_scores = np.sqrt(-train_scores)\n",
    "val_scores = np.sqrt(-test_scores)\n",
    "\n",
    "# plotting out the performance of training set and validation set\n",
    "plt.figure(figsize=(8, 6))\n",
    "plt.title(\"Learning Curve\")\n",
    "plt.xlabel(\"Training Examples\")\n",
    "plt.ylabel(\"RMSE\")\n",
    "plt.plot(train_sizes, np.mean(train_scores, axis=1), 'o-', label='Training')\n",
    "plt.plot(train_sizes, np.mean(val_scores, axis=1), 'o-', label='Validation')\n",
    "plt.legend(loc='best')\n",
    "plt.show()"
   ]
  },
  {
   "cell_type": "markdown",
   "metadata": {},
   "source": [
    "### Gradient Boosting (XGBoost)"
   ]
  },
  {
   "cell_type": "code",
   "execution_count": 148,
   "metadata": {},
   "outputs": [
    {
     "name": "stdout",
     "output_type": "stream",
     "text": [
      "RMSE for XGboost Regressor: 0.0011535617602837177\n"
     ]
    }
   ],
   "source": [
    "#fitting the fourth model\n",
    "params = {\n",
    "    'max_depth': 3,\n",
    "    'eta': 0.1,\n",
    "    'objective': 'reg:squarederror',\n",
    "    'eval_metric': 'rmse'\n",
    "}\n",
    "\n",
    "model = xgb(random_state=seed)\n",
    "\n",
    "model.fit(X_train_scaled, y_train)\n",
    "y_pred_xgb = model.predict(X_test_scaled)\n",
    "\n",
    "print('RMSE for XGboost Regressor:', np.sqrt(mean_squared_error(y_test, y_pred_xgb)))"
   ]
  },
  {
   "cell_type": "code",
   "execution_count": 157,
   "metadata": {},
   "outputs": [
    {
     "name": "stdout",
     "output_type": "stream",
     "text": [
      "RMSE for Decision Tree Regressor: 1.0041536114944077e-11\n",
      "RMSE for Random Forest Regressor: 3.770001907938021e-12\n",
      "RMSE for Gradient Boosting Regressor: 0.18308597683447597\n",
      "RMSE for XGboost Regressor: 0.0011535617602837177\n"
     ]
    }
   ],
   "source": [
    "# Comparing which models give the lowest RMSE. \n",
    "print('RMSE for Decision Tree Regressor:', np.sqrt(mean_squared_error(y_test, y_pred_dtr)))\n",
    "print('RMSE for Random Forest Regressor:', np.sqrt(mean_squared_error(y_test, y_pred_rfr)))\n",
    "print('RMSE for Gradient Boosting Regressor:', np.sqrt(mean_squared_error(y_test, y_pred_gbr)))\n",
    "print('RMSE for XGboost Regressor:', np.sqrt(mean_squared_error(y_test, y_pred_xgb)))"
   ]
  },
  {
   "cell_type": "markdown",
   "metadata": {},
   "source": [
    "## Hyperparameter Tuning"
   ]
  },
  {
   "cell_type": "code",
   "execution_count": 154,
   "metadata": {},
   "outputs": [
    {
     "name": "stdout",
     "output_type": "stream",
     "text": [
      "Fitting 5 folds for each of 8 candidates, totalling 40 fits\n",
      "[CV] END max_leaf_nodes=10, min_samples_leaf=2, n_estimators=100; total time= 1.9min\n",
      "[CV] END max_leaf_nodes=10, min_samples_leaf=2, n_estimators=100; total time= 1.8min\n",
      "[CV] END max_leaf_nodes=10, min_samples_leaf=2, n_estimators=100; total time= 1.8min\n",
      "[CV] END max_leaf_nodes=10, min_samples_leaf=2, n_estimators=100; total time= 1.8min\n",
      "[CV] END max_leaf_nodes=10, min_samples_leaf=2, n_estimators=100; total time= 1.8min\n",
      "[CV] END max_leaf_nodes=10, min_samples_leaf=2, n_estimators=300; total time= 5.3min\n",
      "[CV] END max_leaf_nodes=10, min_samples_leaf=2, n_estimators=300; total time= 5.3min\n",
      "[CV] END max_leaf_nodes=10, min_samples_leaf=2, n_estimators=300; total time= 5.3min\n",
      "[CV] END max_leaf_nodes=10, min_samples_leaf=2, n_estimators=300; total time= 5.3min\n",
      "[CV] END max_leaf_nodes=10, min_samples_leaf=2, n_estimators=300; total time= 5.1min\n",
      "[CV] END max_leaf_nodes=10, min_samples_leaf=5, n_estimators=100; total time= 1.7min\n",
      "[CV] END max_leaf_nodes=10, min_samples_leaf=5, n_estimators=100; total time= 1.7min\n",
      "[CV] END max_leaf_nodes=10, min_samples_leaf=5, n_estimators=100; total time= 1.7min\n",
      "[CV] END max_leaf_nodes=10, min_samples_leaf=5, n_estimators=100; total time= 1.7min\n",
      "[CV] END max_leaf_nodes=10, min_samples_leaf=5, n_estimators=100; total time= 1.7min\n",
      "[CV] END max_leaf_nodes=10, min_samples_leaf=5, n_estimators=300; total time= 5.2min\n",
      "[CV] END max_leaf_nodes=10, min_samples_leaf=5, n_estimators=300; total time= 5.2min\n",
      "[CV] END max_leaf_nodes=10, min_samples_leaf=5, n_estimators=300; total time= 5.3min\n",
      "[CV] END max_leaf_nodes=10, min_samples_leaf=5, n_estimators=300; total time= 5.3min\n",
      "[CV] END max_leaf_nodes=10, min_samples_leaf=5, n_estimators=300; total time= 5.3min\n",
      "[CV] END max_leaf_nodes=100, min_samples_leaf=2, n_estimators=100; total time= 2.9min\n",
      "[CV] END max_leaf_nodes=100, min_samples_leaf=2, n_estimators=100; total time= 2.9min\n",
      "[CV] END max_leaf_nodes=100, min_samples_leaf=2, n_estimators=100; total time= 2.9min\n",
      "[CV] END max_leaf_nodes=100, min_samples_leaf=2, n_estimators=100; total time= 2.9min\n",
      "[CV] END max_leaf_nodes=100, min_samples_leaf=2, n_estimators=100; total time= 2.9min\n",
      "[CV] END max_leaf_nodes=100, min_samples_leaf=2, n_estimators=300; total time= 8.4min\n",
      "[CV] END max_leaf_nodes=100, min_samples_leaf=2, n_estimators=300; total time= 9.0min\n",
      "[CV] END max_leaf_nodes=100, min_samples_leaf=2, n_estimators=300; total time= 9.1min\n",
      "[CV] END max_leaf_nodes=100, min_samples_leaf=2, n_estimators=300; total time= 9.8min\n",
      "[CV] END max_leaf_nodes=100, min_samples_leaf=2, n_estimators=300; total time= 9.1min\n",
      "[CV] END max_leaf_nodes=100, min_samples_leaf=5, n_estimators=100; total time= 3.1min\n",
      "[CV] END max_leaf_nodes=100, min_samples_leaf=5, n_estimators=100; total time= 5.8min\n",
      "[CV] END max_leaf_nodes=100, min_samples_leaf=5, n_estimators=100; total time= 3.1min\n",
      "[CV] END max_leaf_nodes=100, min_samples_leaf=5, n_estimators=100; total time= 3.1min\n",
      "[CV] END max_leaf_nodes=100, min_samples_leaf=5, n_estimators=100; total time= 3.1min\n",
      "[CV] END max_leaf_nodes=100, min_samples_leaf=5, n_estimators=300; total time= 9.3min\n",
      "[CV] END max_leaf_nodes=100, min_samples_leaf=5, n_estimators=300; total time= 9.1min\n",
      "[CV] END max_leaf_nodes=100, min_samples_leaf=5, n_estimators=300; total time= 9.1min\n",
      "[CV] END max_leaf_nodes=100, min_samples_leaf=5, n_estimators=300; total time= 9.1min\n",
      "[CV] END max_leaf_nodes=100, min_samples_leaf=5, n_estimators=300; total time= 9.1min\n",
      "Best hyperparameters: {'max_leaf_nodes': 100, 'min_samples_leaf': 2, 'n_estimators': 300}\n"
     ]
    },
    {
     "name": "stderr",
     "output_type": "stream",
     "text": [
      "/Users/alexyang/opt/anaconda3/lib/python3.9/site-packages/sklearn/base.py:402: UserWarning: X has feature names, but RandomForestRegressor was fitted without feature names\n",
      "  warnings.warn(\n"
     ]
    },
    {
     "name": "stdout",
     "output_type": "stream",
     "text": [
      "Test accuracy: -3.2135737862356857\n"
     ]
    }
   ],
   "source": [
    "# Setting the parameters in a grid for hyperparameter tuning\n",
    "param_grid = {\n",
    "    'n_estimators' : [100, 300],\n",
    "    'min_samples_leaf' : [2, 5],\n",
    "    'max_leaf_nodes' : [10, 100]\n",
    "}\n",
    "\n",
    "rfr_tuned = RandomForestRegressor(oob_score=True, random_state=seed, n_jobs=-1)\n",
    "grid_search = GridSearchCV(rfr_tuned, param_grid=param_grid, cv=5, verbose=2)\n",
    "grid_search.fit(X_train_scaled, y_train)\n",
    "\n",
    "results = grid_search.cv_results_\n",
    "\n",
    "print('Best hyperparameters:', grid_search.best_params_) \n",
    "#Best hyperparameters: {'max_leaf_nodes': 100, 'min_samples_leaf': 2, 'n_estimators': 300}"
   ]
  },
  {
   "cell_type": "code",
   "execution_count": 155,
   "metadata": {},
   "outputs": [
    {
     "name": "stdout",
     "output_type": "stream",
     "text": [
      "RMSE for Random Forest Regressor: 0.06963592210370145\n",
      "Test accuracy: 0.9943151071402174\n"
     ]
    }
   ],
   "source": [
    "#fitting the first model\n",
    "rfr_tuned = RandomForestRegressor(max_leaf_nodes=100, min_samples_leaf=2, n_estimators=300, random_state=seed, oob_score=True, n_jobs=-1)\n",
    "\n",
    "rfr_tuned.fit(X_train_scaled, y_train)\n",
    "y_pred_rfr_tuned = rfr_tuned.predict(X_test_scaled)\n",
    "\n",
    "print('RMSE for Random Forest Regressor:', np.sqrt(mean_squared_error(y_test, y_pred_rfr_tuned)))\n",
    "print('Model Score:', grid_search.score(X_test_scaled, y_test))"
   ]
  },
  {
   "cell_type": "markdown",
   "metadata": {},
   "source": [
    "Here we got our best model, with a robust RMSE of 0.069 and a model score (R-squared) of 0.99 "
   ]
  },
  {
   "cell_type": "markdown",
   "metadata": {},
   "source": [
    "Could also done with pipeline, putting all models in a parameter grid and let utilize gridsearch CV to get us the best answer."
   ]
  },
  {
   "cell_type": "markdown",
   "metadata": {},
   "source": [
    "## Pipeline"
   ]
  },
  {
   "cell_type": "code",
   "execution_count": 150,
   "metadata": {},
   "outputs": [],
   "source": [
    "def rmse(y_true, y_pred):\n",
    "    return np.sqrt(mean_squared_error(y_true, y_pred))\n",
    "\n",
    "# Define the pipeline\n",
    "pipe = Pipeline([\n",
    "    ('scaler', StandardScaler()),\n",
    "    ('model', DecisionTreeRegressor())\n",
    "])"
   ]
  },
  {
   "cell_type": "code",
   "execution_count": 151,
   "metadata": {},
   "outputs": [
    {
     "name": "stdout",
     "output_type": "stream",
     "text": [
      "RMSE for {'model': DecisionTreeRegressor(random_state=7)} : 0.8664042743464293\n",
      "RMSE for {'model': RandomForestRegressor(random_state=7)} : 0.8436397498673693\n",
      "RMSE for {'model': GradientBoostingRegressor(random_state=7)} : 0.5942358236986802\n",
      "RMSE for {'model': XGBRegressor(base_score=None, booster=None, callbacks=None,\n",
      "             colsample_bylevel=None, colsample_bynode=None,\n",
      "             colsample_bytree=None, early_stopping_rounds=None,\n",
      "             enable_categorical=False, eval_metric=None, gamma=None,\n",
      "             gpu_id=None, grow_policy=None, importance_type=None,\n",
      "             interaction_constraints=None, learning_rate=0.1, max_bin=None,\n",
      "             max_cat_to_onehot=None, max_delta_step=None, max_depth=3,\n",
      "             max_leaves=None, min_child_weight=None, missing=nan,\n",
      "             monotone_constraints=None, n_estimators=50, n_jobs=None,\n",
      "             num_parallel_tree=None, predictor=None, random_state=7,\n",
      "             reg_alpha=None, reg_lambda=None, ...), 'model__learning_rate': 0.1, 'model__max_depth': 3, 'model__n_estimators': 50} : 0.5784808716964491\n",
      "RMSE for {'model': XGBRegressor(base_score=None, booster=None, callbacks=None,\n",
      "             colsample_bylevel=None, colsample_bynode=None,\n",
      "             colsample_bytree=None, early_stopping_rounds=None,\n",
      "             enable_categorical=False, eval_metric=None, gamma=None,\n",
      "             gpu_id=None, grow_policy=None, importance_type=None,\n",
      "             interaction_constraints=None, learning_rate=0.1, max_bin=None,\n",
      "             max_cat_to_onehot=None, max_delta_step=None, max_depth=3,\n",
      "             max_leaves=None, min_child_weight=None, missing=nan,\n",
      "             monotone_constraints=None, n_estimators=50, n_jobs=None,\n",
      "             num_parallel_tree=None, predictor=None, random_state=7,\n",
      "             reg_alpha=None, reg_lambda=None, ...), 'model__learning_rate': 0.1, 'model__max_depth': 3, 'model__n_estimators': 100} : 0.6001528924951216\n",
      "RMSE for {'model': XGBRegressor(base_score=None, booster=None, callbacks=None,\n",
      "             colsample_bylevel=None, colsample_bynode=None,\n",
      "             colsample_bytree=None, early_stopping_rounds=None,\n",
      "             enable_categorical=False, eval_metric=None, gamma=None,\n",
      "             gpu_id=None, grow_policy=None, importance_type=None,\n",
      "             interaction_constraints=None, learning_rate=0.1, max_bin=None,\n",
      "             max_cat_to_onehot=None, max_delta_step=None, max_depth=3,\n",
      "             max_leaves=None, min_child_weight=None, missing=nan,\n",
      "             monotone_constraints=None, n_estimators=50, n_jobs=None,\n",
      "             num_parallel_tree=None, predictor=None, random_state=7,\n",
      "             reg_alpha=None, reg_lambda=None, ...), 'model__learning_rate': 0.1, 'model__max_depth': 5, 'model__n_estimators': 50} : 0.6116354225096894\n",
      "RMSE for {'model': XGBRegressor(base_score=None, booster=None, callbacks=None,\n",
      "             colsample_bylevel=None, colsample_bynode=None,\n",
      "             colsample_bytree=None, early_stopping_rounds=None,\n",
      "             enable_categorical=False, eval_metric=None, gamma=None,\n",
      "             gpu_id=None, grow_policy=None, importance_type=None,\n",
      "             interaction_constraints=None, learning_rate=0.1, max_bin=None,\n",
      "             max_cat_to_onehot=None, max_delta_step=None, max_depth=3,\n",
      "             max_leaves=None, min_child_weight=None, missing=nan,\n",
      "             monotone_constraints=None, n_estimators=50, n_jobs=None,\n",
      "             num_parallel_tree=None, predictor=None, random_state=7,\n",
      "             reg_alpha=None, reg_lambda=None, ...), 'model__learning_rate': 0.1, 'model__max_depth': 5, 'model__n_estimators': 100} : 0.6275860869824381\n",
      "RMSE for {'model': XGBRegressor(base_score=None, booster=None, callbacks=None,\n",
      "             colsample_bylevel=None, colsample_bynode=None,\n",
      "             colsample_bytree=None, early_stopping_rounds=None,\n",
      "             enable_categorical=False, eval_metric=None, gamma=None,\n",
      "             gpu_id=None, grow_policy=None, importance_type=None,\n",
      "             interaction_constraints=None, learning_rate=0.1, max_bin=None,\n",
      "             max_cat_to_onehot=None, max_delta_step=None, max_depth=3,\n",
      "             max_leaves=None, min_child_weight=None, missing=nan,\n",
      "             monotone_constraints=None, n_estimators=50, n_jobs=None,\n",
      "             num_parallel_tree=None, predictor=None, random_state=7,\n",
      "             reg_alpha=None, reg_lambda=None, ...), 'model__learning_rate': 0.01, 'model__max_depth': 3, 'model__n_estimators': 50} : 3.966705972872701\n",
      "RMSE for {'model': XGBRegressor(base_score=None, booster=None, callbacks=None,\n",
      "             colsample_bylevel=None, colsample_bynode=None,\n",
      "             colsample_bytree=None, early_stopping_rounds=None,\n",
      "             enable_categorical=False, eval_metric=None, gamma=None,\n",
      "             gpu_id=None, grow_policy=None, importance_type=None,\n",
      "             interaction_constraints=None, learning_rate=0.1, max_bin=None,\n",
      "             max_cat_to_onehot=None, max_delta_step=None, max_depth=3,\n",
      "             max_leaves=None, min_child_weight=None, missing=nan,\n",
      "             monotone_constraints=None, n_estimators=50, n_jobs=None,\n",
      "             num_parallel_tree=None, predictor=None, random_state=7,\n",
      "             reg_alpha=None, reg_lambda=None, ...), 'model__learning_rate': 0.01, 'model__max_depth': 3, 'model__n_estimators': 100} : 2.4526594833155895\n",
      "RMSE for {'model': XGBRegressor(base_score=None, booster=None, callbacks=None,\n",
      "             colsample_bylevel=None, colsample_bynode=None,\n",
      "             colsample_bytree=None, early_stopping_rounds=None,\n",
      "             enable_categorical=False, eval_metric=None, gamma=None,\n",
      "             gpu_id=None, grow_policy=None, importance_type=None,\n",
      "             interaction_constraints=None, learning_rate=0.1, max_bin=None,\n",
      "             max_cat_to_onehot=None, max_delta_step=None, max_depth=3,\n",
      "             max_leaves=None, min_child_weight=None, missing=nan,\n",
      "             monotone_constraints=None, n_estimators=50, n_jobs=None,\n",
      "             num_parallel_tree=None, predictor=None, random_state=7,\n",
      "             reg_alpha=None, reg_lambda=None, ...), 'model__learning_rate': 0.01, 'model__max_depth': 5, 'model__n_estimators': 50} : 3.973183837777962\n",
      "RMSE for {'model': XGBRegressor(base_score=None, booster=None, callbacks=None,\n",
      "             colsample_bylevel=None, colsample_bynode=None,\n",
      "             colsample_bytree=None, early_stopping_rounds=None,\n",
      "             enable_categorical=False, eval_metric=None, gamma=None,\n",
      "             gpu_id=None, grow_policy=None, importance_type=None,\n",
      "             interaction_constraints=None, learning_rate=0.1, max_bin=None,\n",
      "             max_cat_to_onehot=None, max_delta_step=None, max_depth=3,\n",
      "             max_leaves=None, min_child_weight=None, missing=nan,\n",
      "             monotone_constraints=None, n_estimators=50, n_jobs=None,\n",
      "             num_parallel_tree=None, predictor=None, random_state=7,\n",
      "             reg_alpha=None, reg_lambda=None, ...), 'model__learning_rate': 0.01, 'model__max_depth': 5, 'model__n_estimators': 100} : 2.4485215420206723\n"
     ]
    }
   ],
   "source": [
    "# create a grid of parameters for each models to be plugged into gridsearchCV\n",
    "param_grid = [\n",
    "    {\n",
    "        'model': [DecisionTreeRegressor(random_state=seed)],\n",
    "    },\n",
    "    {\n",
    "        'model': [RandomForestRegressor(random_state=seed, oob_score=True, n_jobs=-1)],\n",
    "    },\n",
    "    {\n",
    "        'model': [GradientBoostingRegressor(random_state=seed)],\n",
    "    },\n",
    "    {\n",
    "        'model': [xgb(random_state=seed)],\n",
    "        'model__n_estimators': [50, 100],\n",
    "        'model__max_depth': [3, 5],\n",
    "        'model__learning_rate': [0.1, 0.01]\n",
    "    }\n",
    "]\n",
    "\n",
    "# Perform the grid search over the hyperparameters for each model\n",
    "grid = GridSearchCV(pipe, param_grid=param_grid, cv=5, n_jobs=-1, scoring=make_scorer(rmse, greater_is_better=False), return_train_score=True)\n",
    "grid.fit(X, y)\n",
    "\n",
    "# Print the RMSE for each combination of hyperparameters\n",
    "results = grid.cv_results_\n",
    "for i in range(len(results['params'])):\n",
    "    print(\"RMSE for\", results['params'][i], \":\", abs(results['mean_test_score'][i]))\n"
   ]
  },
  {
   "cell_type": "code",
   "execution_count": 156,
   "metadata": {},
   "outputs": [
    {
     "data": {
      "text/plain": [
       "{'model': XGBRegressor(base_score=None, booster=None, callbacks=None,\n",
       "              colsample_bylevel=None, colsample_bynode=None,\n",
       "              colsample_bytree=None, early_stopping_rounds=None,\n",
       "              enable_categorical=False, eval_metric=None, gamma=None,\n",
       "              gpu_id=None, grow_policy=None, importance_type=None,\n",
       "              interaction_constraints=None, learning_rate=0.1, max_bin=None,\n",
       "              max_cat_to_onehot=None, max_delta_step=None, max_depth=3,\n",
       "              max_leaves=None, min_child_weight=None, missing=nan,\n",
       "              monotone_constraints=None, n_estimators=50, n_jobs=None,\n",
       "              num_parallel_tree=None, predictor=None, random_state=7,\n",
       "              reg_alpha=None, reg_lambda=None, ...),\n",
       " 'model__learning_rate': 0.1,\n",
       " 'model__max_depth': 3,\n",
       " 'model__n_estimators': 50}"
      ]
     },
     "execution_count": 156,
     "metadata": {},
     "output_type": "execute_result"
    }
   ],
   "source": [
    "grid.best_params_"
   ]
  },
  {
   "cell_type": "markdown",
   "metadata": {},
   "source": [
    "### Feature Importance "
   ]
  },
  {
   "cell_type": "code",
   "execution_count": 158,
   "metadata": {},
   "outputs": [
    {
     "data": {
      "image/png": "[encoded data removed]",
      "text/plain": [
       "<Figure size 1000x1000 with 1 Axes>"
      ]
     },
     "metadata": {},
     "output_type": "display_data"
    }
   ],
   "source": [
    "importances = rfr.feature_importances_\n",
    "\n",
    "# Sort the feature importances in descending order\n",
    "indices = np.argsort(importances)[::-1]\n",
    "\n",
    "# Create a bar plot of the feature importances\n",
    "plt.figure(figsize=(10, 10))\n",
    "plt.title(\"Feature importances\")\n",
    "\n",
    "# There are no parameter with negative importance in this dataset\n",
    "colors = np.array(['red' if i < 0 else 'blue' for i in importances])\n",
    "\n",
    "plt.barh(range(X.shape[1]), importances[indices][::-1], color=colors[indices])\n",
    "plt.yticks(range(X.shape[1]), X.columns[indices][::-1])\n",
    "\n",
    "plt.show()"
   ]
  },
  {
   "cell_type": "markdown",
   "metadata": {},
   "source": [
    "Number of Votes is sort of dragging the solution in our prediciton model since we are accounting for millions of user rating and when there are many ratings for once specific movie, many rows are going to have the number of voting which might play a big role in the model."
   ]
  },
  {
   "cell_type": "markdown",
   "metadata": {},
   "source": [
    "## References\n",
    "1. Documentation for sklearn.preprocessing.MultiLabelBinarizer, https://scikit-learn.org/stable/modules/generated/sklearn.preprocessing.MultiLabelBinarizer.html \n",
    "2. Documentation for XGBoost, https://xgboost.readthedocs.io/en/stable/python/python_intro.html\n",
    "3. Class Slides, previous labs and assignments "
   ]
  }
 ],
 "metadata": {
  "kernelspec": {
   "display_name": "Python 3.9.16 ('base')",
   "language": "python",
   "name": "python3"
  },
  "language_info": {
   "codemirror_mode": {
    "name": "ipython",
    "version": 3
   },
   "file_extension": ".py",
   "mimetype": "text/x-python",
   "name": "python",
   "nbconvert_exporter": "python",
   "pygments_lexer": "ipython3",
   "version": "3.9.16"
  },
  "orig_nbformat": 4,
  "vscode": {
   "interpreter": {
    "hash": "573dfe784a97caf9dff8293e7ed0f9bd3e6f3d5163ce14a787b0340057cdb20e"
   }
  }
 },
 "nbformat": 4,
 "nbformat_minor": 2
}
